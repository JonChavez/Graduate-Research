{
 "cells": [
  {
   "cell_type": "code",
   "execution_count": 1,
   "id": "f64ea487-5876-4f21-9400-6158f9e52450",
   "metadata": {},
   "outputs": [],
   "source": [
    "#Importing Necessary Libraries\n",
    "import requests\n",
    "import pandas as pd"
   ]
  },
  {
   "cell_type": "markdown",
   "id": "b736e551-802f-4c0e-9fc9-a6736a036f59",
   "metadata": {},
   "source": [
    "Create a function that encapsulates the following:\n",
    "1. Prompts the user to enter clinical trial type (i.e Alzheimers)\n",
    "2. Constructs and sends an API request\n",
    "3. Extracts and processes the response data (Trial ID, Study Name, Outcomes)\n",
    "4. Formats the data into a table and saves it as a CSV file"
   ]
  },
  {
   "cell_type": "code",
   "execution_count": 2,
   "id": "5bb1ccdf-ecf9-4fd0-a8f0-ddb4a2b50c3c",
   "metadata": {},
   "outputs": [
    {
     "ename": "SyntaxError",
     "evalue": "invalid syntax (3293648858.py, line 75)",
     "output_type": "error",
     "traceback": [
      "\u001b[0;36m  Cell \u001b[0;32mIn[2], line 75\u001b[0;36m\u001b[0m\n\u001b[0;31m    if__name__ == \"__main__\":\u001b[0m\n\u001b[0m                            ^\u001b[0m\n\u001b[0;31mSyntaxError\u001b[0m\u001b[0;31m:\u001b[0m invalid syntax\n"
     ]
    }
   ],
   "source": [
    "#Function variable\n",
    "def fetch_clinical_trials():\n",
    "    #Step 1: Prompt the user to enter clinical trial type\n",
    "    keyword = input(\"Enter a keyword to query clinical trials: \")\n",
    "\n",
    "    #Step 2: Constructing the API Request\n",
    "    base_url = \"https://clinicaltrials.gov/api/v2/studies\"\n",
    "    params = {\n",
    "        \"query.titles\": keyword, #Keyword variable is being called to query by title\n",
    "        \"pageSize\": 100 #How many records are queried at a time. Still don't understand pageToken concept\n",
    "    }\n",
    "\n",
    "    #Start list for Clinical Trials\n",
    "    results = []\n",
    "\n",
    "    #Step 3: Extracting and processing data through nested if else and loops...Some debugging \n",
    "    while True:\n",
    "        print(f\"Fetching data for keyword: {keyword}\") #Debugging output\n",
    "\n",
    "        #Sending a GET request to the API\n",
    "        response = requests.get(base_url, params=params)\n",
    "\n",
    "        #Checking if the request was successful\n",
    "        if response.status_code == 200: #200 means successful\n",
    "            #Parsing JSON response\n",
    "            data = response.json() #Converting to python dictionary\n",
    "            studies = data.get('studies', []) #Extracts list of studies from studies key\n",
    "\n",
    "            for study in studies:\n",
    "                nct_id = study['protocolSection']['identificationModule'].get('nctId', 'Unknown')\n",
    "                title = study['protocolSection']['identificationModule'].get('officialTitle', 'Unknown')\n",
    "                outcomes = study['protocolSection']['outcomesModule'].get('primaryOutcomeMeasures', [])\n",
    "\n",
    "                #Extract outcomes and measures\n",
    "                otucome_measures = ', '.join([outcome.get('description', 'No outcome description') for outcome in outcomes]) if outcomes else \"No outcomes listed\"\n",
    "\n",
    "                #Append to results\n",
    "                results.append({\n",
    "                    \"Trial Identifier (NCTId)\": nct_id,\n",
    "                    \"Study Name\": title,\n",
    "                    \"Overall Status\": overallStatus,\n",
    "                    \"Start Date\": startDate,\n",
    "                    \"Conditions\": conditions,\n",
    "                    \"Interventions\": interventions,\n",
    "                    \"Locations\": locations,\n",
    "                    \"Primary Completion Date\": primaryCompletionDate,\n",
    "                    \"Study First Post Date\": studyFirstPostDate,\n",
    "                    \"Last Update Post Date\": lastUpdatePostDate,\n",
    "                    \"Study Type\": studyType,\n",
    "                    \"Phases\": phases\n",
    "                })\n",
    "\n",
    "            #Check if nextPageToken\n",
    "            next_page_token = data.get('nextPageToken')\n",
    "            if next_page_token:\n",
    "                params['pageToken'] = next_page_token #Update for the next page\n",
    "            else:\n",
    "                break #Exit loop if no more pages available\n",
    "        else: \n",
    "            print(\"Failed to fetch data. Status code:\", response.status_code)\n",
    "            break\n",
    "\n",
    "    #Convert the results to a DataFrame for table\n",
    "    df = pd.DataFrame(results)\n",
    "\n",
    "    #Display the DataFrame\n",
    "    print(\"\\nClinical Trials Data:\")\n",
    "    print(df)\n",
    "\n",
    "    #Save the data to CSV\n",
    "    df.to_csv(\"clinicalTrialResults.csv\", index=False)\n",
    "    print(\"\\nData saved to clinicalTrialResults.csv'.\")\n",
    "\n",
    "#Run the function\n",
    "if__name__ == \"__main__\":\n",
    "    fetch_clinical_trials()\n",
    "\n",
    "    \n",
    "            \n",
    "\n",
    "\n",
    "\n",
    "            "
   ]
  }
 ],
 "metadata": {
  "kernelspec": {
   "display_name": "Python 3 (ipykernel)",
   "language": "python",
   "name": "python3"
  },
  "language_info": {
   "codemirror_mode": {
    "name": "ipython",
    "version": 3
   },
   "file_extension": ".py",
   "mimetype": "text/x-python",
   "name": "python",
   "nbconvert_exporter": "python",
   "pygments_lexer": "ipython3",
   "version": "3.12.0"
  }
 },
 "nbformat": 4,
 "nbformat_minor": 5
}
